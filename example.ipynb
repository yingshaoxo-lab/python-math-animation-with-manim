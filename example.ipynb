{
 "cells": [
  {
   "cell_type": "code",
   "execution_count": 6,
   "id": "champion-projection",
   "metadata": {},
   "outputs": [
    {
     "name": "stderr",
     "output_type": "stream",
     "text": [
      "                                                                                  \r"
     ]
    },
    {
     "data": {
      "text/html": [
       "<pre style=\"white-space:pre;overflow-x:auto;line-height:normal;font-family:Menlo,'DejaVu Sans Mono',consolas,'Courier New',monospace\"><span style=\"color: #7fbfbf\">[03/06/21 12:21:09] </span><span style=\"color: #000080\">INFO</span>     Animation <span style=\"color: #000080; font-weight: bold\">0</span> : Partial movie file        <a href=\"file:///usr/local/lib/python3.8/dist-packages/manim/scene/scene_file_writer.py\"><span style=\"color: #7f7f7f\">scene_file_writer.py</span></a><span style=\"color: #7f7f7f\">:377</span>\n",
       "                             written in <span style=\"font-weight: bold\">{</span><span style=\"color: #008000\">'/home/yingshaoxo/CS/python</span>                         \n",
       "                             <span style=\"color: #008000\">-math-animation-with-manim/media/videos</span>                         \n",
       "                             <span style=\"color: #008000\">/python-math-animation-with-manim/1080p</span>                         \n",
       "                             <span style=\"color: #008000\">60/partial_movie_files/Scene1/450974505</span>                         \n",
       "                             <span style=\"color: #008000\">_3929147776_909901879.mp4'</span><span style=\"font-weight: bold\">}</span>                                     \n",
       "</pre>\n"
      ],
      "text/plain": [
       "<rich.jupyter.JupyterRenderable at 0x7f5bdfae2940>"
      ]
     },
     "metadata": {},
     "output_type": "display_data"
    },
    {
     "data": {
      "text/html": [
       "<pre style=\"white-space:pre;overflow-x:auto;line-height:normal;font-family:Menlo,'DejaVu Sans Mono',consolas,'Courier New',monospace\"><span style=\"color: #7fbfbf\">                    </span><span style=\"color: #000080\">INFO</span>                                             <a href=\"file:///usr/local/lib/python3.8/dist-packages/manim/scene/scene_file_writer.py\"><span style=\"color: #7f7f7f\">scene_file_writer.py</span></a><span style=\"color: #7f7f7f\">:549</span>\n",
       "                             <span style=\"color: #808000; font-weight: bold\">File</span> ready at <span style=\"color: #800080\">/home/yingshaoxo/CS/pytho</span>                         \n",
       "                             <span style=\"color: #800080\">n-math-animation-with-manim/media/video</span>                         \n",
       "                             <span style=\"color: #800080\">s/python-math-animation-with-manim/1080</span>                         \n",
       "                             <span style=\"color: #800080\">p60/</span><span style=\"color: #ff00ff\">Scene1.mp4</span>                                                  \n",
       "                                                                                             \n",
       "</pre>\n"
      ],
      "text/plain": [
       "<rich.jupyter.JupyterRenderable at 0x7f5bdfae2940>"
      ]
     },
     "metadata": {},
     "output_type": "display_data"
    },
    {
     "data": {
      "text/html": [
       "<pre style=\"white-space:pre;overflow-x:auto;line-height:normal;font-family:Menlo,'DejaVu Sans Mono',consolas,'Courier New',monospace\"><span style=\"color: #7fbfbf\">                    </span><span style=\"color: #000080\">INFO</span>     <span style=\"color: #808000; font-weight: bold\">Rendered</span> Scene1                                     <a href=\"file:///usr/local/lib/python3.8/dist-packages/manim/scene/scene.py\"><span style=\"color: #7f7f7f\">scene.py</span></a><span style=\"color: #7f7f7f\">:175</span>\n",
       "                             <span style=\"color: #808000; font-weight: bold\">Played</span> <span style=\"color: #000080; font-weight: bold\">1</span> <span style=\"color: #808000; font-weight: bold\">animations</span>                                             \n",
       "</pre>\n"
      ],
      "text/plain": [
       "<rich.jupyter.JupyterRenderable at 0x7f5bdfae2fa0>"
      ]
     },
     "metadata": {},
     "output_type": "display_data"
    },
    {
     "data": {
      "text/html": [
       "<video src=\"media/jupyter/d174ecd2c7e1f23dc04be8a0e0de49c41b5f5b31.mp4\" controls autoplay loop style=\"max-width: 100%;\"  >\n",
       "      Your browser does not support the <code>video</code> element.\n",
       "    </video>"
      ],
      "text/plain": [
       "<IPython.core.display.Video object>"
      ]
     },
     "metadata": {},
     "output_type": "display_data"
    }
   ],
   "source": [
    "%%manim Scene1\n",
    "\n",
    "from manim import Scene, Square, ShowCreation\n",
    "\n",
    "class Scene1(Scene):\n",
    "    def construct(self):\n",
    "        sq = Square()\n",
    "        self.play(ShowCreation(sq))"
   ]
  },
  {
   "cell_type": "code",
   "execution_count": 16,
   "id": "oriented-metabolism",
   "metadata": {},
   "outputs": [
    {
     "name": "stderr",
     "output_type": "stream",
     "text": [
      "                                                                               \r"
     ]
    },
    {
     "data": {
      "text/html": [
       "<pre style=\"white-space:pre;overflow-x:auto;line-height:normal;font-family:Menlo,'DejaVu Sans Mono',consolas,'Courier New',monospace\"><span style=\"color: #7fbfbf\">[03/06/21 12:30:23] </span><span style=\"color: #000080\">INFO</span>     Animation <span style=\"color: #000080; font-weight: bold\">0</span> : Partial movie file        <a href=\"file:///usr/local/lib/python3.8/dist-packages/manim/scene/scene_file_writer.py\"><span style=\"color: #7f7f7f\">scene_file_writer.py</span></a><span style=\"color: #7f7f7f\">:377</span>\n",
       "                             written in <span style=\"font-weight: bold\">{</span><span style=\"color: #008000\">'/home/yingshaoxo/CS/python</span>                         \n",
       "                             <span style=\"color: #008000\">-math-animation-with-manim/media/videos</span>                         \n",
       "                             <span style=\"color: #008000\">/python-math-animation-with-manim/1080p</span>                         \n",
       "                             <span style=\"color: #008000\">60/partial_movie_files/VectorArrow/4509</span>                         \n",
       "                             <span style=\"color: #008000\">74505_3558514696_3707151235.mp4'</span><span style=\"font-weight: bold\">}</span>                               \n",
       "</pre>\n"
      ],
      "text/plain": [
       "<rich.jupyter.JupyterRenderable at 0x7f5c004eb6d0>"
      ]
     },
     "metadata": {},
     "output_type": "display_data"
    },
    {
     "name": "stderr",
     "output_type": "stream",
     "text": [
      "                                                                                 \r"
     ]
    },
    {
     "data": {
      "text/html": [
       "<pre style=\"white-space:pre;overflow-x:auto;line-height:normal;font-family:Menlo,'DejaVu Sans Mono',consolas,'Courier New',monospace\"><span style=\"color: #7fbfbf\">[03/06/21 12:30:29] </span><span style=\"color: #000080\">INFO</span>     Animation <span style=\"color: #000080; font-weight: bold\">1</span> : Partial movie file        <a href=\"file:///usr/local/lib/python3.8/dist-packages/manim/scene/scene_file_writer.py\"><span style=\"color: #7f7f7f\">scene_file_writer.py</span></a><span style=\"color: #7f7f7f\">:377</span>\n",
       "                             written in <span style=\"font-weight: bold\">{</span><span style=\"color: #008000\">'/home/yingshaoxo/CS/python</span>                         \n",
       "                             <span style=\"color: #008000\">-math-animation-with-manim/media/videos</span>                         \n",
       "                             <span style=\"color: #008000\">/python-math-animation-with-manim/1080p</span>                         \n",
       "                             <span style=\"color: #008000\">60/partial_movie_files/VectorArrow/2788</span>                         \n",
       "                             <span style=\"color: #008000\">726626_3560274369_2125327157.mp4'</span><span style=\"font-weight: bold\">}</span>                              \n",
       "</pre>\n"
      ],
      "text/plain": [
       "<rich.jupyter.JupyterRenderable at 0x7f5bdfd47850>"
      ]
     },
     "metadata": {},
     "output_type": "display_data"
    },
    {
     "data": {
      "text/html": [
       "<pre style=\"white-space:pre;overflow-x:auto;line-height:normal;font-family:Menlo,'DejaVu Sans Mono',consolas,'Courier New',monospace\"><span style=\"color: #7fbfbf\">                    </span><span style=\"color: #000080\">INFO</span>                                             <a href=\"file:///usr/local/lib/python3.8/dist-packages/manim/scene/scene_file_writer.py\"><span style=\"color: #7f7f7f\">scene_file_writer.py</span></a><span style=\"color: #7f7f7f\">:549</span>\n",
       "                             <span style=\"color: #808000; font-weight: bold\">File</span> ready at <span style=\"color: #800080\">/home/yingshaoxo/CS/pytho</span>                         \n",
       "                             <span style=\"color: #800080\">n-math-animation-with-manim/media/video</span>                         \n",
       "                             <span style=\"color: #800080\">s/python-math-animation-with-manim/1080</span>                         \n",
       "                             <span style=\"color: #800080\">p60/</span><span style=\"color: #ff00ff\">VectorArrow.mp4</span>                                             \n",
       "                                                                                             \n",
       "</pre>\n"
      ],
      "text/plain": [
       "<rich.jupyter.JupyterRenderable at 0x7f5c18ce3b80>"
      ]
     },
     "metadata": {},
     "output_type": "display_data"
    },
    {
     "data": {
      "text/html": [
       "<pre style=\"white-space:pre;overflow-x:auto;line-height:normal;font-family:Menlo,'DejaVu Sans Mono',consolas,'Courier New',monospace\"><span style=\"color: #7fbfbf\">                    </span><span style=\"color: #000080\">INFO</span>     <span style=\"color: #808000; font-weight: bold\">Rendered</span> VectorArrow                                <a href=\"file:///usr/local/lib/python3.8/dist-packages/manim/scene/scene.py\"><span style=\"color: #7f7f7f\">scene.py</span></a><span style=\"color: #7f7f7f\">:175</span>\n",
       "                             <span style=\"color: #808000; font-weight: bold\">Played</span> <span style=\"color: #000080; font-weight: bold\">2</span> <span style=\"color: #808000; font-weight: bold\">animations</span>                                             \n",
       "</pre>\n"
      ],
      "text/plain": [
       "<rich.jupyter.JupyterRenderable at 0x7f5bdfcdbb50>"
      ]
     },
     "metadata": {},
     "output_type": "display_data"
    },
    {
     "data": {
      "text/html": [
       "<video src=\"media/jupyter/3e8fb4d392e09a225759f34862c375dff6ffdaf2.mp4\" controls autoplay loop style=\"max-width: 100%;\"  >\n",
       "      Your browser does not support the <code>video</code> element.\n",
       "    </video>"
      ],
      "text/plain": [
       "<IPython.core.display.Video object>"
      ]
     },
     "metadata": {},
     "output_type": "display_data"
    }
   ],
   "source": [
    "%%manim VectorArrow\n",
    "\n",
    "class VectorArrow(Scene):\n",
    "    def construct(self):\n",
    "        dot = Dot(ORIGIN)\n",
    "        arrow = Arrow(ORIGIN, [2, 2, 0], buff=0)\n",
    "        numberplane = NumberPlane()\n",
    "        origin_text = Text('(0, 0)').next_to(dot, DOWN)\n",
    "        tip_text = Text('(2, 2)').next_to(arrow.get_end(), RIGHT)\n",
    "        self.add(numberplane, dot, arrow, origin_text, tip_text)\n",
    "        self.play(ShowCreation(dot))\n",
    "        self.play(ShowCreation(arrow))"
   ]
  },
  {
   "cell_type": "code",
   "execution_count": null,
   "id": "sorted-climb",
   "metadata": {},
   "outputs": [],
   "source": []
  }
 ],
 "metadata": {
  "kernelspec": {
   "display_name": "Python 3",
   "language": "python",
   "name": "python3"
  },
  "language_info": {
   "codemirror_mode": {
    "name": "ipython",
    "version": 3
   },
   "file_extension": ".py",
   "mimetype": "text/x-python",
   "name": "python",
   "nbconvert_exporter": "python",
   "pygments_lexer": "ipython3",
   "version": "3.8.5"
  }
 },
 "nbformat": 4,
 "nbformat_minor": 5
}
